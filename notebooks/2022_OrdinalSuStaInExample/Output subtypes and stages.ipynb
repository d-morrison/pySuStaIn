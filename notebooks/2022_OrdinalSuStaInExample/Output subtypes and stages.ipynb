{
 "cells": [
  {
   "cell_type": "code",
   "execution_count": 1,
   "id": "d0b5f84b",
   "metadata": {},
   "outputs": [],
   "source": [
    "import pandas\n",
    "import numpy as np\n",
    "import numpy.matlib\n",
    "import matplotlib.pyplot as plt\n",
    "import seaborn as sns\n",
    "import sys\n",
    "import scipy\n",
    "import pickle\n",
    "from glob import glob\n",
    "from pathlib import Path\n",
    "import pySuStaIn"
   ]
  },
  {
   "cell_type": "code",
   "execution_count": 2,
   "id": "2e574cd7",
   "metadata": {},
   "outputs": [],
   "source": [
    "output_folder = 'output'\n",
    "dataset_name = 'sample_data'\n",
    "\n",
    "s = 1\n",
    "# note that s = 1 corresponds to 2 subtypes, s = 2 is 3 subtypes, etc.\n",
    "pickle_filename_s           = output_folder + '/pickle_files/' + dataset_name + '_subtype' + str(s) + '.pickle'\n",
    "pickle_filepath             = Path(pickle_filename_s)\n",
    "pickle_file                 = open(pickle_filename_s, 'rb')\n",
    "loaded_variables            = pickle.load(pickle_file)\n",
    "ml_subtype                  = loaded_variables[\"ml_subtype\"]\n",
    "prob_ml_subtype             = loaded_variables[\"prob_ml_subtype\"]\n",
    "ml_stage                    = loaded_variables[\"ml_stage\"]\n",
    "prob_ml_stage               = loaded_variables[\"prob_ml_stage\"]\n",
    "prob_subtype                = loaded_variables[\"prob_subtype\"]\n",
    "prob_stage                  = loaded_variables[\"prob_stage\"]\n",
    "prob_subtype_stage          = loaded_variables[\"prob_subtype_stage\"]\n",
    "pickle_file.close()  "
   ]
  },
  {
   "cell_type": "code",
   "execution_count": 3,
   "id": "511c4507",
   "metadata": {},
   "outputs": [
    {
     "name": "stdout",
     "output_type": "stream",
     "text": [
      "    ml_subtype  ml_stage  prob_ml_subtype  prob_ml_stage\n",
      "0          2.0       8.0         0.534832       0.384683\n",
      "1          0.0       0.0         0.528057       0.454370\n",
      "2          1.0       6.0         0.511723       0.415275\n",
      "3          1.0       6.0         0.511723       0.415275\n",
      "4          1.0       6.0         0.511723       0.415275\n",
      "5          1.0      10.0         0.519315       0.134051\n",
      "6          1.0      10.0         0.595107       0.362763\n",
      "7          1.0       9.0         0.588411       0.204479\n",
      "8          1.0       9.0         0.600037       0.320375\n",
      "9          2.0       7.0         0.516106       0.309915\n",
      "10         0.0       0.0         0.528057       0.454370\n",
      "11         1.0       6.0         0.511723       0.415275\n",
      "12         1.0       6.0         0.511723       0.415275\n",
      "13         2.0       5.0         0.501499       0.112168\n",
      "14         1.0       9.0         0.578095       0.178854\n",
      "15         1.0       9.0         0.578095       0.178854\n",
      "16         2.0       8.0         0.534832       0.384683\n",
      "17         2.0       8.0         0.534832       0.384683\n",
      "18         2.0       5.0         0.513342       0.292478\n",
      "19         1.0       5.0         0.561275       0.157522\n"
     ]
    }
   ],
   "source": [
    "df = pandas.DataFrame({'ml_subtype':ml_subtype[:,0]+1,\n",
    "                      'ml_stage':ml_stage[:,0],\n",
    "                     'prob_ml_subtype':prob_ml_subtype[:,0],\n",
    "                     'prob_ml_stage':prob_ml_stage[:,0]})\n",
    "# index individuals who have a stage of 0 as a separate group 0\n",
    "df.loc[df['ml_stage']==0,'ml_subtype'] = 0\n",
    "print(df)"
   ]
  },
  {
   "cell_type": "code",
   "execution_count": 4,
   "id": "af1c3c03",
   "metadata": {},
   "outputs": [],
   "source": [
    "with pandas.ExcelWriter('output/SubtypesAndStages.xlsx') as writer:\n",
    "    df.to_excel(writer,sheet_name=\"Sheet1\")"
   ]
  },
  {
   "cell_type": "code",
   "execution_count": null,
   "id": "acbeb8f6",
   "metadata": {},
   "outputs": [],
   "source": []
  }
 ],
 "metadata": {
  "kernelspec": {
   "display_name": "Python 3 (ipykernel)",
   "language": "python",
   "name": "python3"
  },
  "language_info": {
   "codemirror_mode": {
    "name": "ipython",
    "version": 3
   },
   "file_extension": ".py",
   "mimetype": "text/x-python",
   "name": "python",
   "nbconvert_exporter": "python",
   "pygments_lexer": "ipython3",
   "version": "3.8.15"
  }
 },
 "nbformat": 4,
 "nbformat_minor": 5
}
